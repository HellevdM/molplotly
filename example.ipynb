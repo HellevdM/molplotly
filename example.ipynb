{
 "cells": [
  {
   "cell_type": "markdown",
   "metadata": {},
   "source": [
    "# Imports and Data Loading"
   ]
  },
  {
   "cell_type": "markdown",
   "metadata": {},
   "source": [
    "Import pandas for data manipulation, plotly for plotting, and molplot for visualising structures!"
   ]
  },
  {
   "cell_type": "code",
   "execution_count": null,
   "metadata": {},
   "outputs": [],
   "source": [
    "import pandas as pd\n",
    "import plotly.express as px\n",
    "\n",
    "import molplotly\n"
   ]
  },
  {
   "cell_type": "markdown",
   "metadata": {},
   "source": [
    "Let's load the ESOL dataset from [ESOL: Estimating Aqueous Solubility Directly from Molecular Structure](https://doi.org/10.1021/ci034243x) (included as `example.csv` in the repo)"
   ]
  },
  {
   "cell_type": "code",
   "execution_count": null,
   "metadata": {},
   "outputs": [],
   "source": [
    "df_esol = pd.read_csv('example.csv')\n",
    "df_esol['y_pred'] = df_esol['ESOL predicted log solubility in mols per litre']\n",
    "df_esol['y_true'] = df_esol['measured log solubility in mols per litre']\n"
   ]
  },
  {
   "cell_type": "markdown",
   "metadata": {},
   "source": [
    "# Simple Examples"
   ]
  },
  {
   "cell_type": "markdown",
   "metadata": {},
   "source": [
    "Let's make a scatter plot comparing the measured vs predicted solubilities using [`plotly`](https://plotly.com/python/)"
   ]
  },
  {
   "cell_type": "code",
   "execution_count": null,
   "metadata": {},
   "outputs": [],
   "source": [
    "df_esol['delY'] = df_esol[\"y_pred\"] - df_esol[\"y_true\"]\n",
    "fig_scatter = px.scatter(df_esol,\n",
    "                         x=\"y_true\",\n",
    "                         y=\"y_pred\",\n",
    "                         color='delY',\n",
    "                         title='ESOL Regression (default plotly)',\n",
    "                         labels={'y_pred': 'Predicted Solubility',\n",
    "                                 'y_true': 'Measured Solubility',\n",
    "                                 'delY': 'ΔY'},\n",
    "                         width=1200,\n",
    "                         height=800)\n",
    "\n",
    "# This adds a dashed line for what a perfect model _should_ predict\n",
    "y = df_esol[\"y_true\"].values\n",
    "fig_scatter.add_shape(\n",
    "    type=\"line\", line=dict(dash='dash'),\n",
    "    x0=y.min(), y0=y.min(),\n",
    "    x1=y.max(), y1=y.max()\n",
    ")\n",
    "\n",
    "fig_scatter.show()\n"
   ]
  },
  {
   "cell_type": "markdown",
   "metadata": {},
   "source": [
    "now all we have to do is `add_molecules`!"
   ]
  },
  {
   "cell_type": "code",
   "execution_count": null,
   "metadata": {},
   "outputs": [],
   "source": [
    "fig_scatter.update_layout(title='ESOL Regression (with add_molecules!)')\n",
    "\n",
    "app_scatter = molplotly.add_molecules(fig=fig_scatter,\n",
    "                                      df=df_esol,\n",
    "                                      smiles_col='smiles',\n",
    "                                      title_col='Compound ID'\n",
    "                                      )\n",
    "\n",
    "# change the arguments here to run the dash app on an external server and/or change the size of the app!\n",
    "app_scatter.run_server(mode='inline', port=8001, height=1000)\n"
   ]
  },
  {
   "cell_type": "markdown",
   "metadata": {},
   "source": [
    "Cool right? Let's explore some more options:\n",
    "\n",
    "Apart from showing the $(x,y)$ coordinates (you can turn them off using `show_coords=False`), we can add extra values to show up in the mouse tooltip by specifying `caption_cols` - the values in these columns of `df_esol` are also shown in the hover box.\n",
    "\n",
    "We can also apply some function transformations to the captions via `caption_transform` - in this example, rounding all our numbers to 2 decimal places.\n",
    "\n"
   ]
  },
  {
   "cell_type": "code",
   "execution_count": null,
   "metadata": {},
   "outputs": [],
   "source": [
    "fig_scatter.update_layout(\n",
    "    title='ESOL Regression (with add_molecules & extra captions)')\n",
    "\n",
    "app_scatter_with_captions = molplotly.add_molecules(fig=fig_scatter,\n",
    "                                                    df=df_esol,\n",
    "                                                    smiles_col='smiles',\n",
    "                                                    title_col='Compound ID',\n",
    "                                                    caption_cols=['Molecular Weight', 'Number of Rings'],\n",
    "                                                    caption_transform={'Predicted Solubility': lambda x: f\"{x:.2f}\",\n",
    "                                                                       'Measured Solubility': lambda x: f\"{x:.2f}\",\n",
    "                                                                       'Molecular Weight': lambda x: f\"{x:.2f}\"\n",
    "                                                                       },\n",
    "                                                    show_coords=True)\n",
    "\n",
    "app_scatter_with_captions.run_server(mode='inline', port=8002, height=1000)\n"
   ]
  },
  {
   "cell_type": "markdown",
   "metadata": {},
   "source": [
    "What about adding colors? Here I've made an arbitrary random split of the dataset into `train` and `test`. When plotting, this leads to two separate plotly \"curves\" so the condition determining the color of the points needs to be passed in to the `add_molecules` function in order for the correct SMILES to be selected for visualisation - this is done via `color_col`. Notice that the `title` for the molecules in the hover box have the same color as the data point! \n",
    "\n",
    "For fun I also used the `size` argument in the scatter plot to change the size of the markers in proportion to the molecular weight.\n",
    "\n",
    "(notice I've been choosing different `port` numbers in all my plots, this is so that they don't interfere with each other!)"
   ]
  },
  {
   "cell_type": "code",
   "execution_count": null,
   "metadata": {},
   "outputs": [],
   "source": [
    "from sklearn.model_selection import train_test_split\n",
    "\n",
    "train_inds, test_inds = train_test_split(df_esol.index)\n",
    "df_esol['dataset'] = [\n",
    "    'Train' if x in train_inds else 'Test' for x in df_esol.index]\n",
    "\n",
    "fig_train_test = px.scatter(df_esol,\n",
    "                            x=\"y_true\",\n",
    "                            y=\"y_pred\",\n",
    "                            size='Molecular Weight',\n",
    "                            color='dataset',\n",
    "                            title='ESOL Regression (colored by random train/test split)',\n",
    "                            labels={'y_pred': 'Predicted Solubility',\n",
    "                                    'y_true': 'Measured Solubility'},\n",
    "                            width=1200,\n",
    "                            height=800)\n",
    "# fig.show()\n",
    "app_train_test = molplotly.add_molecules(fig=fig_train_test,\n",
    "                                         df=df_esol,\n",
    "                                         smiles_col='smiles',\n",
    "                                         title_col='Compound ID',\n",
    "                                         color_col='dataset')\n",
    "\n",
    "app_train_test.run_server(mode='inline', port=8003, height=1000)\n"
   ]
  },
  {
   "cell_type": "markdown",
   "metadata": {},
   "source": [
    "# More complex examples\n",
    "\n",
    "Let's go beyond scatter plots and explore a few other graphs that might be relevant for cheminformatics, hopefully letting you see how `molplotly` could be useful for you when looking through (messy) data!"
   ]
  },
  {
   "cell_type": "markdown",
   "metadata": {},
   "source": [
    "### Strip plots\n",
    "\n",
    "Strip plots are useful for visualising how the same property is distributed between data from different groups. Here I plot how the measured solubility changes with the number of rings on a molecule (it goes down, surprising I know).\n",
    "\n",
    "Violin plots can also useful for this purpose but it's not compatible with `plotly` (see section [\"violin plots\"](#violin)) "
   ]
  },
  {
   "cell_type": "code",
   "execution_count": null,
   "metadata": {},
   "outputs": [],
   "source": [
    "fig_strip = px.strip(df_esol.sort_values('Number of Rings'), # sorting so that the colorbar is sorted!\n",
    "                     x='Number of Rings',\n",
    "                     y='y_true',\n",
    "                     color='Number of Rings',\n",
    "                     labels={'y_true': 'Measured Solubility'},\n",
    "                     width=1000,\n",
    "                     height=800)\n",
    "\n",
    "app_strip = molplotly.add_molecules(fig=fig_strip,\n",
    "                          df=df_esol,\n",
    "                          smiles_col='smiles',\n",
    "                          title_col='Compound ID',\n",
    "                          color_col='Number of Rings',\n",
    "                          caption_transform={'Measured Solubility': lambda x: f\"{x:.2f}\"},\n",
    "                          wrap=True,\n",
    "                          wraplen=25,\n",
    "                          width=150,\n",
    "                          show_coords=True)\n",
    "\n",
    "app_strip.run_server(mode='inline', port=8004, height=850)\n"
   ]
  },
  {
   "cell_type": "markdown",
   "metadata": {},
   "source": [
    "### Scatter Matrices\n",
    "\n",
    "For visualising the relationship between multiple variables at once, use a matrix of scatter plots!\n",
    "\n",
    "Here I've increased the width of the hover box using the `width` parameter because the caption titles were getting long; also I've used `show_coords=False` because $(x, y)$ coordinates for non-trivial scatter plots become messy."
   ]
  },
  {
   "cell_type": "code",
   "execution_count": null,
   "metadata": {},
   "outputs": [],
   "source": [
    "features = ['Number of H-Bond Donors',\n",
    "            'Number of Rings',\n",
    "            'Number of Rotatable Bonds',\n",
    "            'Polar Surface Area']\n",
    "fig_matrix = px.scatter_matrix(df_esol,\n",
    "                               dimensions=features,\n",
    "                               width=1200,\n",
    "                               height=800,\n",
    "                               title='Scatter matrix of molecular properties')\n",
    "\n",
    "app_matrix = molplotly.add_molecules(fig=fig_matrix,\n",
    "                                     df=df_esol,\n",
    "                                     smiles_col='smiles',\n",
    "                                     title_col='Compound ID',\n",
    "                                     caption_cols=features,\n",
    "                                     width=200,\n",
    "                                     show_coords=False)\n",
    "\n",
    "# Only show informative lower triangle\n",
    "fig_matrix.update_traces(diagonal_visible=False, showupperhalf=False)\n",
    "app_matrix.run_server(mode='inline', port=8005, height=1000)\n"
   ]
  },
  {
   "cell_type": "markdown",
   "metadata": {},
   "source": [
    "### Visualising MorganFP PCA components\n",
    "\n",
    "A common way to visualise a molecular dataset is to calculate the morgan fingerprints of the molecules and visualise them in a 2D embedding (eg PCA/t-SNE). In this example I'm going to plot the 2 largest PCA components for ESOL and inspect the data."
   ]
  },
  {
   "cell_type": "markdown",
   "metadata": {},
   "source": [
    "Let's calculate the PCA components first!"
   ]
  },
  {
   "cell_type": "code",
   "execution_count": null,
   "metadata": {},
   "outputs": [],
   "source": [
    "import numpy as np\n",
    "from rdkit import Chem\n",
    "from rdkit.Chem import AllChem, DataStructs\n",
    "from sklearn.decomposition import PCA\n",
    "\n",
    "\n",
    "def smi_to_fp(smi):\n",
    "    fp = AllChem.GetMorganFingerprintAsBitVect(\n",
    "        Chem.MolFromSmiles(smi), 2, nBits=1024)\n",
    "    arr = np.zeros((0,), dtype=np.int8)\n",
    "    DataStructs.ConvertToNumpyArray(fp, arr)\n",
    "    return arr\n",
    "\n",
    "esol_fps = np.array([smi_to_fp(smi) for smi in df_esol['smiles']])\n",
    "pca = PCA(n_components=2)\n",
    "components = pca.fit_transform(esol_fps.reshape(-1, 1024))\n",
    "df_esol['PCA-1'] = components[:, 0]\n",
    "df_esol['PCA-2'] = components[:, 1]\n"
   ]
  },
  {
   "cell_type": "markdown",
   "metadata": {},
   "source": [
    "and now let's look at them!\n",
    "\n",
    "with `molplotly`, it's super easy to see which molecules are where - steroid molecules at the top, alcohols in the bottom left, chlorinated aromatic compounds in the bottom right."
   ]
  },
  {
   "cell_type": "code",
   "execution_count": null,
   "metadata": {},
   "outputs": [],
   "source": [
    "fig_pca = px.scatter(df_esol,\n",
    "                     x=\"PCA-1\",\n",
    "                     y=\"PCA-2\",\n",
    "                     color='y_true',\n",
    "                     title='ESOL PCA of morgan fingerprints',\n",
    "                     labels={'y_true': 'Measured Solubility'},\n",
    "                     width=1200,\n",
    "                     height=800)\n",
    "\n",
    "app_pca = molplotly.add_molecules(fig=fig_pca,\n",
    "                                  df=df_esol,\n",
    "                                  smiles_col='smiles',\n",
    "                                  title_col='Compound ID',\n",
    "                                  caption_cols=['y_true'],\n",
    "                                  color_col='y_true',\n",
    "                                  show_coords=False)\n",
    "\n",
    "app_pca.run_server(mode='inline', port=8006, height=850)\n"
   ]
  },
  {
   "cell_type": "markdown",
   "metadata": {},
   "source": [
    "### Clustering\n",
    "\n",
    "Let's do some clustering of the ESOL molecules, borrowing useful functions from Pat Walters' excellent blog post on [clustering](http://practicalcheminformatics.blogspot.com/2021/11/picking-highest-scoring-molecules-from.html)."
   ]
  },
  {
   "cell_type": "code",
   "execution_count": null,
   "metadata": {},
   "outputs": [],
   "source": [
    "from rdkit.ML.Cluster import Butina\n",
    "\n",
    "def smi2fp(smi):\n",
    "    fp = AllChem.GetMorganFingerprintAsBitVect(Chem.MolFromSmiles(smi), 2)\n",
    "    return fp\n",
    "\n",
    "\n",
    "def taylor_butina_clustering(fp_list, cutoff=0.35):\n",
    "    dists = []\n",
    "    nfps = len(fp_list)\n",
    "    for i in range(1, nfps):\n",
    "        sims = DataStructs.BulkTanimotoSimilarity(fp_list[i], fp_list[:i])\n",
    "        dists.extend([1-x for x in sims])\n",
    "    mol_clusters = Butina.ClusterData(dists, nfps, cutoff, isDistData=True)\n",
    "    return mol_clusters\n",
    "\n",
    "\n",
    "cluster_res = taylor_butina_clustering(\n",
    "    [smi2fp(smi) for smi in df_esol['smiles']])\n",
    "cluster_id_list = np.zeros(len(df_esol), dtype=int)\n",
    "for cluster_num, cluster in enumerate(cluster_res):\n",
    "    for member in cluster:\n",
    "        cluster_id_list[member] = cluster_num\n",
    "df_esol['cluster'] = cluster_id_list\n"
   ]
  },
  {
   "cell_type": "markdown",
   "metadata": {},
   "source": [
    "Now let's make a strip plot of the top-10 clusters, see what they look like and how soluable they are!"
   ]
  },
  {
   "cell_type": "code",
   "execution_count": null,
   "metadata": {},
   "outputs": [],
   "source": [
    "df_cluster = df_esol.query('cluster < 10').copy().reset_index()\n",
    "# sorting is needed to make the legend appear in order!\n",
    "df_cluster = df_cluster.sort_values('cluster')\n",
    "\n",
    "fig_cluster = px.strip(df_cluster,\n",
    "                      y='y_true',\n",
    "                      color='cluster',\n",
    "                      labels={'y_true': 'Measured Solubility'},\n",
    "                      width=1000,\n",
    "                      height=800)\n",
    "\n",
    "app_cluster = molplotly.add_molecules(fig=fig_cluster,\n",
    "                           df=df_cluster,\n",
    "                           smiles_col='smiles',\n",
    "                           title_col='Compound ID',\n",
    "                           color_col='cluster'\n",
    "                           )\n",
    "\n",
    "app_cluster.run_server(mode='inline', port=8007, height=850)\n"
   ]
  },
  {
   "cell_type": "markdown",
   "metadata": {},
   "source": [
    "# Incompatible `plotly` functionality with molplotly\n",
    "\n",
    "`Plotly` is a graphing library that does far more than just scatter plots - it has lots of cool functionalities that unfortunately clash with how `molplotly` implements the hover box (for now at least). Here are some examples of known incompatibilities, which are still very useful data visualisations in vanilla `plotly`!"
   ]
  },
  {
   "cell_type": "markdown",
   "metadata": {},
   "source": [
    "### Marginals on scatter plots \n",
    "\n",
    "I like having marginals on the sides by default because the data density in a dataset can often vary a lot. Anything to do with histogram/violin plots don't work yet with `molplotly`."
   ]
  },
  {
   "cell_type": "code",
   "execution_count": null,
   "metadata": {},
   "outputs": [],
   "source": [
    "fig_marginal = px.scatter(df_esol,\n",
    "                 x=\"y_true\",\n",
    "                 y=\"y_pred\",\n",
    "                 title='ESOL Regression (with histogram marginals)',\n",
    "                 labels={'y_pred': 'Predicted Solubility',\n",
    "                         'y_true': 'Measured Solubility'},\n",
    "                 marginal_x='violin',\n",
    "                 marginal_y='histogram',\n",
    "                 width=1200,\n",
    "                 height=800)\n",
    "fig_marginal.show()\n"
   ]
  },
  {
   "cell_type": "markdown",
   "metadata": {},
   "source": [
    "### Violin plots\n",
    "\n",
    "The aesthetic of violin plots are nice, especially when there's a lot of datapoints but if there's not much data (often the case in drug discovery!) then those nice smooth KDE curves can be misleading so I usually prefer strip plots. `plotly` has cool mouseover data on violin plots which are incompatible with `molplotly` but at least if there's enough data that I prefer using a violin plot, it's probably too memory consuming to run a strip plot with `molplotly` anyway!\n",
    "\n",
    "<a name=\"violin\"></a>"
   ]
  },
  {
   "cell_type": "code",
   "execution_count": null,
   "metadata": {},
   "outputs": [],
   "source": [
    "fig_violin = px.violin(df_esol,\n",
    "                       y=\"y_true\",\n",
    "                       title='ESOL violin plot of measured solubility',\n",
    "                       labels={'y_true': 'Measured Solubility'},\n",
    "                       box=True,\n",
    "                       points='all',\n",
    "                       width=1200,\n",
    "                       height=800)\n",
    "fig_violin.show()\n"
   ]
  },
  {
   "cell_type": "markdown",
   "metadata": {},
   "source": [
    "# Other notes"
   ]
  },
  {
   "cell_type": "markdown",
   "metadata": {},
   "source": [
    "### 💾 &nbsp; Can I save these plots?"
   ]
  },
  {
   "cell_type": "markdown",
   "metadata": {},
   "source": [
    "`moltplotly` works using a Dash app which is non-trivial to export because server side javascript is needed in addition to HTML/CSS styling ([as detailed here](https://stackoverflow.com/questions/60097577/how-to-export-a-plotly-dashboard-app-into-a-html-standalone-file-to-share-with-t))\n",
    "\n",
    "Until I find a way to get around that, the best alternative is exporting the plotly figure without molecules showing :( as detailed in this [page](https://plotly.com/python/interactive-html-export/). If you want to use it in a presentation I'd suggest keeping the figure open in a browser and changing windows to it during your talk!"
   ]
  },
  {
   "cell_type": "markdown",
   "metadata": {},
   "source": [
    "### 🛑 &nbsp;Warning about memory size  \n",
    "Just adding a warning here that memory usage in a notebook can increase significanly when using plotly (not `molplotly`'s fault!). If you notice your jupyter notebook slowing down, plotly itself is a likely culprit... In that case I'd consider either using plotly with [static image rendering](https://plotly.com/python/renderers/#static-image-renderers), or ... use [seaborn](https://seaborn.pydata.org/index.html) :P"
   ]
  }
 ],
 "metadata": {
  "interpreter": {
   "hash": "4a7e8b3f2f045654a081d27e44f6dfaabc933b24cfce3adb7145add9056666ba"
  },
  "kernelspec": {
   "display_name": "Python 3.7.11 64-bit ('work': conda)",
   "language": "python",
   "name": "python3"
  },
  "language_info": {
   "codemirror_mode": {
    "name": "ipython",
    "version": 3
   },
   "file_extension": ".py",
   "mimetype": "text/x-python",
   "name": "python",
   "nbconvert_exporter": "python",
   "pygments_lexer": "ipython3",
   "version": "3.8.12"
  },
  "orig_nbformat": 4
 },
 "nbformat": 4,
 "nbformat_minor": 2
}
