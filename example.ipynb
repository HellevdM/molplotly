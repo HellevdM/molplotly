{
 "cells": [
  {
   "cell_type": "code",
   "execution_count": 1,
   "metadata": {},
   "outputs": [],
   "source": [
    "import base64\n",
    "from io import BytesIO\n",
    "from rdkit import Chem\n",
    "from rdkit.Chem import Draw\n",
    "import pandas as pd\n",
    "import plotly.express as px\n",
    "from dash import dcc, html, Input, Output\n",
    "from jupyter_dash import JupyterDash\n",
    "\n",
    "from molplot import add_molecules"
   ]
  },
  {
   "cell_type": "code",
   "execution_count": 2,
   "metadata": {},
   "outputs": [],
   "source": [
    "df_preds = pd.read_csv('esol.csv')"
   ]
  },
  {
   "cell_type": "code",
   "execution_count": 3,
   "metadata": {},
   "outputs": [
    {
     "data": {
      "text/html": [
       "\n",
       "        <iframe\n",
       "            width=\"100%\"\n",
       "            height=\"1000\"\n",
       "            src=\"http://127.0.0.1:8050/\"\n",
       "            frameborder=\"0\"\n",
       "            allowfullscreen\n",
       "            \n",
       "        ></iframe>\n",
       "        "
      ],
      "text/plain": [
       "<IPython.lib.display.IFrame at 0x2acf71a81750>"
      ]
     },
     "metadata": {},
     "output_type": "display_data"
    }
   ],
   "source": [
    "fig = px.scatter(df_preds, x=\"y_true\", y=\"y_pred\",\n",
    "                    color=df_preds[\"y_pred\"] - df_preds[\"y_true\"])\n",
    "\n",
    "# This adds a dotted line along y=x from x=0 to x=100\n",
    "fig.add_shape(type='line',\n",
    "              x0=0,\n",
    "              y0=0,\n",
    "              x1=100,\n",
    "              y1=100,\n",
    "              line=dict(color='black', dash='dash'),\n",
    "              xref='x',\n",
    "              yref='y'\n",
    "              )\n",
    "\n",
    "fig.update_layout(\n",
    "    title='ESOL Regression',\n",
    "    autosize=True,\n",
    "    width=1200, # size of figure\n",
    "    height=800,\n",
    "    xaxis=dict(title=\"Measured Solubility\"),\n",
    "    yaxis=dict(title=\"Predicted Solubility\"),\n",
    ")\n",
    "\n",
    "app = add_molecules(df_preds, fig)\n",
    "\n",
    "# import socket\n",
    "# host = socket.gethostbyname(socket.gethostname())\n",
    "# app.run_server(mode='inline', host=host, height=1000)\n",
    "app.run_server(mode='inline', height=1000) # height of dash app inline"
   ]
  },
  {
   "cell_type": "markdown",
   "metadata": {},
   "source": []
  },
  {
   "cell_type": "code",
   "execution_count": null,
   "metadata": {},
   "outputs": [],
   "source": []
  }
 ],
 "metadata": {
  "interpreter": {
   "hash": "4a7e8b3f2f045654a081d27e44f6dfaabc933b24cfce3adb7145add9056666ba"
  },
  "kernelspec": {
   "display_name": "Python 3.7.11 64-bit ('work': conda)",
   "language": "python",
   "name": "python3"
  },
  "language_info": {
   "codemirror_mode": {
    "name": "ipython",
    "version": 3
   },
   "file_extension": ".py",
   "mimetype": "text/x-python",
   "name": "python",
   "nbconvert_exporter": "python",
   "pygments_lexer": "ipython3",
   "version": "3.7.10"
  },
  "orig_nbformat": 4
 },
 "nbformat": 4,
 "nbformat_minor": 2
}
