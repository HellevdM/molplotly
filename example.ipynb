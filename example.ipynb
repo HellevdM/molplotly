{
 "cells": [
  {
   "cell_type": "code",
   "execution_count": 9,
   "metadata": {},
   "outputs": [],
   "source": [
    "import base64\n",
    "from io import BytesIO\n",
    "from rdkit import Chem\n",
    "from rdkit.Chem import Draw\n",
    "import pandas as pd\n",
    "import plotly.graph_objects as go\n",
    "import plotly.express as px\n",
    "from dash import dcc, html, Input, Output, no_update\n",
    "from jupyter_dash import JupyterDash"
   ]
  },
  {
   "cell_type": "code",
   "execution_count": 10,
   "metadata": {},
   "outputs": [],
   "source": [
    "df_preds = pd.read_csv('loo_predictions.csv')"
   ]
  },
  {
   "cell_type": "code",
   "execution_count": 12,
   "metadata": {},
   "outputs": [
    {
     "name": "stderr",
     "output_type": "stream",
     "text": [
      "/home/rokas/miniconda3/envs/work/lib/python3.7/site-packages/jupyter_dash/jupyter_app.py:139: UserWarning:\n",
      "\n",
      "The 'environ['werkzeug.server.shutdown']' function is deprecated and will be removed in Werkzeug 2.1.\n",
      "\n"
     ]
    },
    {
     "data": {
      "text/html": [
       "\n",
       "        <iframe\n",
       "            width=\"100%\"\n",
       "            height=\"1000\"\n",
       "            src=\"http://10.248.116.163:8050/\"\n",
       "            frameborder=\"0\"\n",
       "            allowfullscreen\n",
       "            \n",
       "        ></iframe>\n",
       "        "
      ],
      "text/plain": [
       "<IPython.lib.display.IFrame at 0x7ff6ff687a10>"
      ]
     },
     "metadata": {},
     "output_type": "display_data"
    }
   ],
   "source": [
    "fig = px.scatter(df_preds, x=\"Measured Inhibition (%)\", y=\"Predicted Inhibition (%)\",\n",
    "                    color=df_preds[\"Predicted Inhibition (%)\"] - df_preds[\"Measured Inhibition (%)\"])\n",
    "# fig = go.Figure(data=[\n",
    "#     go.Scatter(\n",
    "#         x=df_preds[\"Measured Inhibition (%)\"],\n",
    "#         y=df_preds[\"Predicted Inhibition (%)\"],\n",
    "#         marker=dict(\n",
    "#         color=df_preds[\"Predicted Inhibition (%)\"] - df_preds[\"Measured Inhibition (%)\"],\n",
    "#         colorscale='viridis',\n",
    "#         colorbar=dict(title='Δ Inhibition'),\n",
    "#         showscale=True\n",
    "#         ),\n",
    "#         mode=\"markers\"\n",
    "#     )\n",
    "# ])\n",
    "\n",
    "fig.add_shape(type='line',\n",
    "              x0=0,\n",
    "              y0=0,\n",
    "              x1=100,\n",
    "              y1=100,\n",
    "              line=dict(color='black', dash='dash'),\n",
    "              xref='x',\n",
    "              yref='y'\n",
    "              )\n",
    "\n",
    "# molplot.add_molecules(fig)\n",
    "\n",
    "# turn off native plotly.js hover effects - make sure to use\n",
    "# hoverinfo=\"none\" rather than \"skip\" which also halts events\n",
    "fig.update_traces(hoverinfo=\"none\", hovertemplate=None)\n",
    "\n",
    "fig.update_layout(\n",
    "    title='Leave-One-Out Regression',\n",
    "    autosize=True,\n",
    "    width=1200, # size of figure\n",
    "    height=800,\n",
    "    xaxis=dict(title=\"Measured Inhibition (%)\"),\n",
    "    yaxis=dict(title=\"Predicted Inhibition (%)\"),\n",
    ")\n",
    "app = JupyterDash(__name__)\n",
    "app.layout = html.Div([\n",
    "    dcc.Graph(id=\"graph-basic-2\", figure=fig, clear_on_unhover=True),\n",
    "    dcc.Tooltip(id=\"graph-tooltip\"),\n",
    "])\n",
    "\n",
    "@app.callback(\n",
    "    Output(\"graph-tooltip\", \"show\"),\n",
    "    Output(\"graph-tooltip\", \"bbox\"),\n",
    "    Output(\"graph-tooltip\", \"children\"),\n",
    "    Input(\"graph-basic-2\", \"hoverData\"),\n",
    ")\n",
    "def display_hover(hoverData):\n",
    "    if hoverData is None:\n",
    "        return False, no_update, no_update\n",
    "\n",
    "    # demo only shows the first point, but other points may also be available\n",
    "    pt = hoverData[\"points\"][0]\n",
    "    bbox = pt[\"bbox\"]\n",
    "    num = pt[\"pointNumber\"]\n",
    "\n",
    "    df_row = df_preds.iloc[num]\n",
    "    name = df_row['name']\n",
    "    smiles = df_row['SMILES']\n",
    "    pred = df_row['Predicted Inhibition (%)']\n",
    "    measurement = df_row['Measured Inhibition (%)']\n",
    "\n",
    "    # if len(desc) > 300:\n",
    "    #     desc = desc[:100] + '...'\n",
    "\n",
    "    buffered = BytesIO()\n",
    "    img = Draw.MolToImage(Chem.MolFromSmiles(smiles))\n",
    "    img.save(buffered, format=\"PNG\")\n",
    "    img_str = base64.b64encode(buffered.getvalue())\n",
    "    img_str = \"data:image/png;base64,{}\".format(\n",
    "        repr(img_str)[2:-1])\n",
    "\n",
    "    children = [\n",
    "        html.Div([\n",
    "            html.Img(src=img_str, style={\"width\": \"100%\"}),\n",
    "            html.H2(f\"{name}\", style={\"color\": \"darkblue\",\n",
    "                    \"font-family\": 'Arial'}),\n",
    "            html.P(f\"Prediction (%): {pred:.1f}\", style={\"color\": \"black\",\n",
    "                                                         \"font-family\": 'Arial'}),\n",
    "            html.P(f\"Measurement (%): {measurement:.1f}\", style={\"color\": \"black\",\n",
    "                                                                 \"font-family\": 'Arial'}),\n",
    "        ], style={'width': '200px', 'white-space': 'normal'})\n",
    "    ]\n",
    "\n",
    "    return True, bbox, children\n",
    "\n",
    "import socket\n",
    "host = socket.gethostbyname(socket.gethostname())\n",
    "app.run_server(mode='inline', host=host, height=1000)\n",
    "# app.run_server(mode='inline', height=1000) # height of dash app inline"
   ]
  },
  {
   "cell_type": "markdown",
   "metadata": {},
   "source": []
  },
  {
   "cell_type": "code",
   "execution_count": null,
   "metadata": {},
   "outputs": [],
   "source": []
  }
 ],
 "metadata": {
  "interpreter": {
   "hash": "4a7e8b3f2f045654a081d27e44f6dfaabc933b24cfce3adb7145add9056666ba"
  },
  "kernelspec": {
   "display_name": "Python 3.7.11 64-bit ('work': conda)",
   "language": "python",
   "name": "python3"
  },
  "language_info": {
   "codemirror_mode": {
    "name": "ipython",
    "version": 3
   },
   "file_extension": ".py",
   "mimetype": "text/x-python",
   "name": "python",
   "nbconvert_exporter": "python",
   "pygments_lexer": "ipython3",
   "version": "3.7.12"
  },
  "orig_nbformat": 4
 },
 "nbformat": 4,
 "nbformat_minor": 2
}
